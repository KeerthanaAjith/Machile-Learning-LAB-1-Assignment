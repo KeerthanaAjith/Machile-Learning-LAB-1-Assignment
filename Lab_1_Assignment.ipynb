{
  "nbformat": 4,
  "nbformat_minor": 0,
  "metadata": {
    "colab": {
      "provenance": []
    },
    "kernelspec": {
      "name": "python3",
      "display_name": "Python 3"
    },
    "language_info": {
      "name": "python"
    }
  },
  "cells": [
    {
      "cell_type": "code",
      "execution_count": null,
      "metadata": {
        "colab": {
          "base_uri": "https://localhost:8080/"
        },
        "id": "dvRbXsHTZrew",
        "outputId": "f42c8087-96c5-49b0-f564-42710f4ec580"
      },
      "outputs": [
        {
          "output_type": "stream",
          "name": "stdout",
          "text": [
            "  Customer  Candies (#)  Mangoes (Kg)  Milk Packets (#)  Payment (Rs)\n",
            "0      C_1           20             6                 2           386\n",
            "1      C_2           16             3                 6           289\n",
            "2      C_3           27             6                 2           393\n",
            "3      C_4           19             1                 2           110\n",
            "4      C_5           24             4                 2           280\n",
            "5      C_6           22             1                 5           167\n",
            "6      C_7           15             4                 2           271\n",
            "7      C_8           18             4                 2           274\n",
            "8      C_9           21             1                 4           148\n",
            "9     C_10           16             2                 4           198\n"
          ]
        }
      ],
      "source": [
        "import pandas as pd\n",
        "import numpy as np\n",
        "\n",
        "purchase_data = pd.read_excel('/content/Lab Session1 Data.xlsx', sheet_name='Purchase data')\n",
        "purchase_df = pd.DataFrame(purchase_data)\n",
        "purchase_df.drop(purchase_df.iloc[:, 5:25], axis=1, inplace=True)\n",
        "print(purchase_df)"
      ]
    },
    {
      "cell_type": "code",
      "source": [
        "A_data = purchase_df.iloc[0:10,1:4]\n",
        "print(A_data)\n",
        "A_matrix = np.array(A_data)\n",
        "print(A_matrix)\n",
        "C_data = purchase_df.iloc[0:10,4]\n",
        "print(C_data)\n",
        "C_matrix = np.array(C_data)\n",
        "C_matrix = C_matrix.reshape(10,1)\n",
        "print(C_matrix)"
      ],
      "metadata": {
        "id": "X1seIIHGXpDL",
        "colab": {
          "base_uri": "https://localhost:8080/"
        },
        "outputId": "d21c1df6-6052-4ec0-ee9e-74925ec6da00"
      },
      "execution_count": null,
      "outputs": [
        {
          "output_type": "stream",
          "name": "stdout",
          "text": [
            "   Candies (#)  Mangoes (Kg)  Milk Packets (#)\n",
            "0           20             6                 2\n",
            "1           16             3                 6\n",
            "2           27             6                 2\n",
            "3           19             1                 2\n",
            "4           24             4                 2\n",
            "5           22             1                 5\n",
            "6           15             4                 2\n",
            "7           18             4                 2\n",
            "8           21             1                 4\n",
            "9           16             2                 4\n",
            "[[20  6  2]\n",
            " [16  3  6]\n",
            " [27  6  2]\n",
            " [19  1  2]\n",
            " [24  4  2]\n",
            " [22  1  5]\n",
            " [15  4  2]\n",
            " [18  4  2]\n",
            " [21  1  4]\n",
            " [16  2  4]]\n",
            "0    386\n",
            "1    289\n",
            "2    393\n",
            "3    110\n",
            "4    280\n",
            "5    167\n",
            "6    271\n",
            "7    274\n",
            "8    148\n",
            "9    198\n",
            "Name: Payment (Rs), dtype: int64\n",
            "[[386]\n",
            " [289]\n",
            " [393]\n",
            " [110]\n",
            " [280]\n",
            " [167]\n",
            " [271]\n",
            " [274]\n",
            " [148]\n",
            " [198]]\n"
          ]
        }
      ]
    },
    {
      "cell_type": "code",
      "source": [
        "purchase_df.shape\n",
        "print('1. The dimensionality of the vector space of this data is: {}'.format(purchase_df.shape))"
      ],
      "metadata": {
        "id": "R1DMUnM2jS7H",
        "colab": {
          "base_uri": "https://localhost:8080/"
        },
        "outputId": "4f10d353-630b-4d46-9758-884e47833129"
      },
      "execution_count": null,
      "outputs": [
        {
          "output_type": "stream",
          "name": "stdout",
          "text": [
            "1. The dimensionality of the vector space of this data is: (10, 5)\n"
          ]
        }
      ]
    },
    {
      "cell_type": "code",
      "source": [
        "print('2. The number of vectors existing in this vector space is: {}'.format(purchase_df.shape[0]))"
      ],
      "metadata": {
        "colab": {
          "base_uri": "https://localhost:8080/"
        },
        "id": "Eem8_MiR_95U",
        "outputId": "4abace27-7604-4b99-b2f1-d24052dec95e"
      },
      "execution_count": null,
      "outputs": [
        {
          "output_type": "stream",
          "name": "stdout",
          "text": [
            "2. The number of vectors existing in this vector space is: 10\n"
          ]
        }
      ]
    },
    {
      "cell_type": "code",
      "source": [
        "print('3. The rank of Matrix A is: {}'.format(np.linalg.matrix_rank(A_data)))"
      ],
      "metadata": {
        "colab": {
          "base_uri": "https://localhost:8080/"
        },
        "id": "0if25axbAaFD",
        "outputId": "bce1c05f-cdb3-40ae-870f-bee978721d0d"
      },
      "execution_count": null,
      "outputs": [
        {
          "output_type": "stream",
          "name": "stdout",
          "text": [
            "3. The rank of Matrix A is: 3\n"
          ]
        }
      ]
    },
    {
      "cell_type": "code",
      "source": [
        "pseudo_inverseA = np.linalg.pinv(A_matrix)\n",
        "print(pseudo_inverseA)\n",
        "print('A2. To calculate the model vector X for predicting the cost of the products available with the vendors:')\n",
        "X = np.dot(pseudo_inverseA, C_matrix)\n",
        "print(C_matrixX)\n",
        "print('4. Cost of each product available for sale is:')\n",
        "print('a) Candy: {}'.format(X[0]))\n",
        "print('b) Mango: {}'.format(X[1]))\n",
        "print('c) Milk Packet: {}'.format(X[2]))"
      ],
      "metadata": {
        "colab": {
          "base_uri": "https://localhost:8080/"
        },
        "id": "AL72QqvRJ8TK",
        "outputId": "86214629-9034-473d-90ec-5c84fa08bb8c"
      },
      "execution_count": null,
      "outputs": [
        {
          "output_type": "stream",
          "name": "stdout",
          "text": [
            "[[-0.01008596 -0.03124505  0.01013951  0.0290728   0.0182907   0.01161794\n",
            "  -0.00771348  0.00095458  0.01743623 -0.00542016]\n",
            " [ 0.09059668  0.07263726  0.03172933 -0.09071908 -0.01893196 -0.06926996\n",
            "   0.05675464  0.03152577 -0.07641966  0.00357352]\n",
            " [ 0.00299878  0.15874243 -0.05795468 -0.06609024 -0.06295043  0.03348017\n",
            "   0.01541831 -0.01070461  0.00029003  0.05938755]]\n",
            "A2. To calculate the model vector X for predicting the cost of the products available with the vendors:\n",
            "[[ 1.]\n",
            " [55.]\n",
            " [18.]]\n",
            "4. Cost of each product available for sale is:\n",
            "a) Candy: [1.]\n",
            "b) Mango: [55.]\n",
            "c) Milk Packet: [18.]\n"
          ]
        }
      ]
    },
    {
      "cell_type": "code",
      "source": [
        "print('A3. Developed a classifier mocdel to categorize customers based on purchase behaviour:')\n",
        "newpurchase_df = purchase_df.copy()\n",
        "customer_status = []\n",
        "\n",
        "for row in purchase_df['Payment (Rs)']:\n",
        "  if row > 200:\n",
        "    customer_status.append('RICH')\n",
        "  else:\n",
        "    customer_status.append('POOR')\n",
        "newpurchase_df['Status'] = customer_status\n",
        "print(newpurchase_df)"
      ],
      "metadata": {
        "colab": {
          "base_uri": "https://localhost:8080/"
        },
        "id": "cQs6KyTZOblq",
        "outputId": "885e2376-9a68-421f-96f8-43bc64c40d81"
      },
      "execution_count": null,
      "outputs": [
        {
          "output_type": "stream",
          "name": "stdout",
          "text": [
            "A3. Developed a classifier mocdel to categorize customers based on purchase behaviour:\n",
            "  Customer  Candies (#)  Mangoes (Kg)  Milk Packets (#)  Payment (Rs) Status\n",
            "0      C_1           20             6                 2           386   RICH\n",
            "1      C_2           16             3                 6           289   RICH\n",
            "2      C_3           27             6                 2           393   RICH\n",
            "3      C_4           19             1                 2           110   POOR\n",
            "4      C_5           24             4                 2           280   RICH\n",
            "5      C_6           22             1                 5           167   POOR\n",
            "6      C_7           15             4                 2           271   RICH\n",
            "7      C_8           18             4                 2           274   RICH\n",
            "8      C_9           21             1                 4           148   POOR\n",
            "9     C_10           16             2                 4           198   POOR\n"
          ]
        }
      ]
    },
    {
      "cell_type": "code",
      "source": [
        "IRCTC_data = pd.read_excel('/content/Lab Session1 Data.xlsx', sheet_name='IRCTC Stock Price')\n",
        "IRCTC_df = pd.DataFrame(IRCTC_data)\n",
        "print(IRCTC_df)"
      ],
      "metadata": {
        "colab": {
          "base_uri": "https://localhost:8080/"
        },
        "id": "BshsbEGsT9di",
        "outputId": "53d26364-b8e7-4b2e-c048-2e57dd071cf4"
      },
      "execution_count": null,
      "outputs": [
        {
          "output_type": "stream",
          "name": "stdout",
          "text": [
            "             Date Month  Day    Price     Open     High      Low   Volume  \\\n",
            "0    Jun 29, 2021   Jun  Tue  2081.85  2092.00  2126.90  2065.05    1.67M   \n",
            "1    Jun 28, 2021   Jun  Mon  2077.75  2084.00  2112.45  2068.40  707.73K   \n",
            "2    Jun 25, 2021   Jun  Fri  2068.85  2084.35  2088.50  2053.10  475.82K   \n",
            "3    Jun 24, 2021   Jun  Thu  2072.95  2098.00  2098.00  2066.00  541.51K   \n",
            "4    Jun 23, 2021   Jun  Wed  2078.25  2102.00  2111.40  2072.00  809.62K   \n",
            "..            ...   ...  ...      ...      ...      ...      ...      ...   \n",
            "244  Jul 07, 2020   Jul  Tue  1397.40  1410.00  1411.00  1390.05  480.21K   \n",
            "245  Jul 06, 2020   Jul  Mon  1400.75  1405.50  1415.50  1394.00  614.93K   \n",
            "246  Jul 03, 2020   Jul  Fri  1405.10  1415.00  1425.00  1398.00  599.49K   \n",
            "247  Jul 02, 2020   Jul  Thu  1412.35  1440.00  1467.80  1395.30    2.16M   \n",
            "248  Jul 01, 2020   Jul  Wed  1363.05  1363.65  1377.00  1356.00  383.00K   \n",
            "\n",
            "       Chg%  \n",
            "0    0.0020  \n",
            "1    0.0043  \n",
            "2   -0.0020  \n",
            "3   -0.0026  \n",
            "4   -0.0023  \n",
            "..      ...  \n",
            "244 -0.0024  \n",
            "245 -0.0031  \n",
            "246 -0.0051  \n",
            "247  0.0362  \n",
            "248  0.0032  \n",
            "\n",
            "[249 rows x 9 columns]\n"
          ]
        }
      ]
    },
    {
      "cell_type": "code",
      "source": [
        "price_data = IRCTC_df.iloc[0:250,3]\n",
        "print(price_data)\n",
        "price_matrix = np.array(price_data)\n",
        "print(price_matrix)"
      ],
      "metadata": {
        "colab": {
          "base_uri": "https://localhost:8080/"
        },
        "id": "aQzIZIfXVWuS",
        "outputId": "994d74b7-ac5d-405b-ebc3-27268b4a9d43"
      },
      "execution_count": null,
      "outputs": [
        {
          "output_type": "stream",
          "name": "stdout",
          "text": [
            "0      2081.85\n",
            "1      2077.75\n",
            "2      2068.85\n",
            "3      2072.95\n",
            "4      2078.25\n",
            "        ...   \n",
            "244    1397.40\n",
            "245    1400.75\n",
            "246    1405.10\n",
            "247    1412.35\n",
            "248    1363.05\n",
            "Name: Price, Length: 249, dtype: float64\n",
            "[2081.85 2077.75 2068.85 2072.95 2078.25 2083.   2076.85 2011.7  2050.4\n",
            " 2089.95 2097.95 2064.4  2093.75 2106.35 2071.2  2144.85 2094.8  1921.7\n",
            " 1921.8  1917.95 1894.6  1903.2  1896.25 1928.35 1894.05 1907.95 1884.5\n",
            " 1862.   1855.65 1858.1  1835.05 1762.1  1747.65 1746.6  1792.3  1748.65\n",
            " 1693.4  1725.2  1723.65 1770.2  1765.55 1791.4  1792.55 1795.85 1793.2\n",
            " 1730.85 1712.   1673.05 1640.05 1612.7  1627.45 1608.1  1611.65 1582.\n",
            " 1730.9  1726.4  1709.   1688.55 1702.65 1751.75 1757.   1755.25 1747.4\n",
            " 1721.85 1760.55 1842.15 1838.05 1855.45 1766.65 1824.   1904.05 1947.05\n",
            " 1987.35 2018.5  2026.7  2015.45 1940.85 1961.1  1886.1  1897.65 1938.45\n",
            " 1759.65 1726.95 1675.45 1632.9  1615.85 1675.4  1701.2  1698.65 1674.15\n",
            " 1713.1  1731.9  1619.   1618.4  1641.75 1618.7  1555.   1518.9  1469.35\n",
            " 1470.5  1459.9  1456.1  1457.05 1438.25 1426.25 1432.45 1454.5  1452.7\n",
            " 1443.5  1423.35 1441.2  1463.1  1461.15 1480.45 1460.7  1471.5  1489.45\n",
            " 1483.45 1456.85 1451.05 1445.   1437.8  1434.95 1410.8  1417.95 1408.95\n",
            " 1411.55 1399.05 1373.5  1424.5  1424.85 1423.4  1441.   1479.   1421.\n",
            " 1452.75 1617.75 1648.5  1691.55 1570.6  1378.05 1349.9  1358.1  1353.45\n",
            " 1351.35 1353.9  1362.3  1362.35 1381.15 1376.05 1365.3  1380.3  1389.25\n",
            " 1381.45 1371.25 1374.35 1312.85 1311.2  1310.4  1300.55 1301.45 1302.25\n",
            " 1315.2  1330.6  1333.35 1326.   1320.65 1327.95 1327.75 1331.75 1332.2\n",
            " 1326.9  1328.1  1329.5  1338.05 1336.5  1334.65 1351.   1355.6  1356.9\n",
            " 1363.85 1376.05 1379.3  1384.   1383.35 1367.05 1352.05 1338.85 1372.85\n",
            " 1355.7  1397.35 1405.35 1370.7  1367.4  1369.8  1367.85 1370.55 1370.85\n",
            " 1348.9  1379.45 1414.85 1365.2  1368.7  1359.75 1351.5  1344.25 1366.5\n",
            " 1367.5  1369.3  1341.75 1338.1  1341.8  1347.05 1361.8  1377.65 1383.55\n",
            " 1368.6  1384.1  1386.8  1372.05 1323.75 1331.35 1334.55 1336.95 1339.8\n",
            " 1339.7  1335.85 1340.7  1352.75 1345.55 1344.85 1357.85 1371.5  1372.95\n",
            " 1390.2  1376.45 1370.95 1364.2  1351.95 1362.15 1397.35 1400.95 1385.05\n",
            " 1390.1  1397.4  1400.75 1405.1  1412.35 1363.05]\n"
          ]
        }
      ]
    },
    {
      "cell_type": "code",
      "source": [
        "import statistics\n",
        "IRCTCprice_mean = statistics.mean(IRCTC_data[\"Price\"])\n",
        "print('The mean of the Price data present in column D is: {}'.format(IRCTCprice_mean))"
      ],
      "metadata": {
        "colab": {
          "base_uri": "https://localhost:8080/"
        },
        "id": "txYKgNkNWxyv",
        "outputId": "71b31729-4984-405d-b7a6-f784409df889"
      },
      "execution_count": null,
      "outputs": [
        {
          "output_type": "stream",
          "name": "stdout",
          "text": [
            "The mean of the Price data present in column D is: 1560.663453815261\n"
          ]
        }
      ]
    },
    {
      "cell_type": "code",
      "source": [
        "IRCTCprice_variance = statistics.variance(IRCTC_data[\"Price\"])\n",
        "print('The variance of the Price data present in column D is: {}'.format(IRCTCprice_variance))"
      ],
      "metadata": {
        "id": "EFe5REc4YS1R",
        "colab": {
          "base_uri": "https://localhost:8080/"
        },
        "outputId": "c3f1a65b-405b-4a0d-f038-23ad15045e2b"
      },
      "execution_count": null,
      "outputs": [
        {
          "output_type": "stream",
          "name": "stdout",
          "text": [
            "The variance of the Price data present in column D is: 58732.365352539186\n"
          ]
        }
      ]
    },
    {
      "cell_type": "code",
      "source": [
        "Wednesday_data = IRCTC_data[IRCTC_data[\"Day\"]==\"Wed\"]\n",
        "Wednesday_mean = statistics.mean(Wednesday_data[\"Price\"])\n",
        "print('The calculated sample mean for all Wednesdays is: {}'.format(Wednesday_mean))"
      ],
      "metadata": {
        "colab": {
          "base_uri": "https://localhost:8080/"
        },
        "id": "JDcJxAgykqKB",
        "outputId": "d1aec1bb-e761-4c8b-8a23-f6236c5f6a7c"
      },
      "execution_count": null,
      "outputs": [
        {
          "output_type": "stream",
          "name": "stdout",
          "text": [
            "The calculated sample mean for all Wednesdays is: 1550.706\n"
          ]
        }
      ]
    },
    {
      "cell_type": "code",
      "source": [
        "print('After comparing the mean with the population mean we can observe that the IRCTC sales on Wednesdays are less compared to the mean of everyday')"
      ],
      "metadata": {
        "colab": {
          "base_uri": "https://localhost:8080/"
        },
        "id": "5e9b2ltZnBy-",
        "outputId": "e164e34e-1760-4511-c54d-3f201a0b0f3f"
      },
      "execution_count": null,
      "outputs": [
        {
          "output_type": "stream",
          "name": "stdout",
          "text": [
            "After comparing the mean with the population mean we can observe that the IRCTC sales on Wednesdays are less compared to the mean of everyday\n"
          ]
        }
      ]
    },
    {
      "cell_type": "code",
      "source": [
        "Apr_data = IRCTC_data[IRCTC_data[\"Month\"]==\"Apr\"]\n",
        "Apr_mean = statistics.mean(Apr_data[\"Price\"])\n",
        "print('The calculated sample mean for the month of April is: {}'.format(Apr_mean))"
      ],
      "metadata": {
        "colab": {
          "base_uri": "https://localhost:8080/"
        },
        "id": "OTz_9gSDnuJM",
        "outputId": "838d0781-c753-484d-fa37-7c179d219f99"
      },
      "execution_count": null,
      "outputs": [
        {
          "output_type": "stream",
          "name": "stdout",
          "text": [
            "The calculated sample mean for all months of April is: 1698.9526315789474\n"
          ]
        }
      ]
    },
    {
      "cell_type": "code",
      "source": [
        "print('After comparing the mean with population mean we can obtain that the IRCTC sales on the month April is significantly greater than the mean of all the months.')"
      ],
      "metadata": {
        "colab": {
          "base_uri": "https://localhost:8080/"
        },
        "id": "eI75MuUEogtm",
        "outputId": "a75652eb-66e1-4c38-acee-6cf7297d06c3"
      },
      "execution_count": null,
      "outputs": [
        {
          "output_type": "stream",
          "name": "stdout",
          "text": [
            "After comparing the mean with population mean we can obtain that the IRCTC sales on the month April is significantly greater than the mean of all the months.\n"
          ]
        }
      ]
    },
    {
      "cell_type": "code",
      "source": [
        "negative_values = 0\n",
        "for index, row in IRCTC_data.iterrows():\n",
        "  if row['Chg%'] < 0:\n",
        "    negative_values = negative_values + 1\n",
        "print('Probability of making a loss over the stock is: {}'.format(negative_values/IRCTC_data.shape[0]))"
      ],
      "metadata": {
        "colab": {
          "base_uri": "https://localhost:8080/"
        },
        "id": "D64gdKFPpEPq",
        "outputId": "6c4457ed-2bad-4c3e-c111-a710fdd2c099"
      },
      "execution_count": null,
      "outputs": [
        {
          "output_type": "stream",
          "name": "stdout",
          "text": [
            "Probability of making a loss over the stock is: 0.4979919678714859\n"
          ]
        }
      ]
    },
    {
      "cell_type": "code",
      "source": [
        "wednesday = 0\n",
        "profit = 0\n",
        "for index, row in IRCTC_data.iterrows():\n",
        "  if row['Day']==\"Wed\":\n",
        "    if row['Chg%'] > 0:\n",
        "      profit = profit + 1\n",
        "    wednesday = wednesday + 1\n",
        "print('Probability of making a profit on Wednesday: {}'.format(profit/wednesday))"
      ],
      "metadata": {
        "colab": {
          "base_uri": "https://localhost:8080/"
        },
        "id": "lW1no6aEsPMW",
        "outputId": "56acd405-c336-44f6-edd5-e38c92b8609f"
      },
      "execution_count": null,
      "outputs": [
        {
          "output_type": "stream",
          "name": "stdout",
          "text": [
            "Probability of making a profit on Wednesday: 0.42\n"
          ]
        }
      ]
    },
    {
      "cell_type": "code",
      "source": [
        "import matplotlib.pyplot as plt\n",
        "\n",
        "data_on_days = []\n",
        "data_on_chg = []\n",
        "for index, row in IRCTC_data.iterrows():\n",
        "  data_on_days.append(row['Day'])\n",
        "  data_on_chg.append(row['Chg%'])\n",
        "\n",
        "plt.scatter(data_on_days, data_on_chg)\n",
        "plt.title(\"Percentage Change of IRCTC Stock Price against the Day of the Week \")\n",
        "plt.ylabel(\"Percentage Change (Chg%)\")\n",
        "plt.xlabel(\"Day of the Week\")\n",
        "plt.show"
      ],
      "metadata": {
        "colab": {
          "base_uri": "https://localhost:8080/",
          "height": 489
        },
        "id": "XctNUHRWtz2a",
        "outputId": "406b9b79-8e69-44d3-89f3-72a9a390c65b"
      },
      "execution_count": null,
      "outputs": [
        {
          "output_type": "execute_result",
          "data": {
            "text/plain": [
              "<function matplotlib.pyplot.show(close=None, block=None)>"
            ]
          },
          "metadata": {},
          "execution_count": 55
        },
        {
          "output_type": "display_data",
          "data": {
            "text/plain": [
              "<Figure size 640x480 with 1 Axes>"
            ],
            "image/png": "[encoded data removed]"
          },
          "metadata": {}
        }
      ]
    }
  ]
}