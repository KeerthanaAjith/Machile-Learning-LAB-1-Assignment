{
  "nbformat": 4,
  "nbformat_minor": 0,
  "metadata": {
    "colab": {
      "provenance": [],
      "authorship_tag": "ABX9TyPgKLcMfvxWJvSuLUgydZeD",
      "include_colab_link": true
    },
    "kernelspec": {
      "name": "python3",
      "display_name": "Python 3"
    },
    "language_info": {
      "name": "python"
    }
  },
  "cells": [
    {
      "cell_type": "markdown",
      "metadata": {
        "id": "view-in-github",
        "colab_type": "text"
      },
      "source": [
        "<a href=\"https://colab.research.google.com/github/KeerthanaAjith/Machine-Learning-Assignments/blob/main/Lab_7_Assignment.ipynb\" target=\"_parent\"><img src=\"https://colab.research.google.com/assets/colab-badge.svg\" alt=\"Open In Colab\"/></a>"
      ]
    },
    {
      "cell_type": "code",
      "execution_count": null,
      "metadata": {
        "id": "2dhB6SDf-cja"
      },
      "outputs": [],
      "source": [
        "# A1. Train a support vector machine using the training set obtained from above exerciseyou’re yourdataset has multiple classes, take any two classes for this exercise. Following code for help:"
      ]
    },
    {
      "cell_type": "code",
      "source": [
        "import numpy as np\n",
        "from sklearn import svm\n",
        "clf=svm.SVC()\n",
        " clf.fit(X_train,y_train)"
      ],
      "metadata": {
        "id": "4fpMRu47-pZy"
      },
      "execution_count": null,
      "outputs": []
    }
  ]
}