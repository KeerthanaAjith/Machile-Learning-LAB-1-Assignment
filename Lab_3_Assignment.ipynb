{
  "nbformat": 4,
  "nbformat_minor": 0,
  "metadata": {
    "colab": {
      "provenance": [],
      "authorship_tag": "ABX9TyPTv2yRSHOo8eSPL0bYs6wY",
      "include_colab_link": true
    },
    "kernelspec": {
      "name": "python3",
      "display_name": "Python 3"
    },
    "language_info": {
      "name": "python"
    }
  },
  "cells": [
    {
      "cell_type": "markdown",
      "metadata": {
        "id": "view-in-github",
        "colab_type": "text"
      },
      "source": [
        "<a href=\"https://colab.research.google.com/github/KeerthanaAjith/Machine-Learning-Assignments/blob/main/Lab_3_Assignment.ipynb\" target=\"_parent\"><img src=\"https://colab.research.google.com/assets/colab-badge.svg\" alt=\"Open In Colab\"/></a>"
      ]
    },
    {
      "cell_type": "code",
      "execution_count": null,
      "metadata": {
        "id": "k--dccf--ihg"
      },
      "outputs": [],
      "source": [
        "import numpy as np\n",
        "import pandas as pd\n",
        "import matplotlib.pyplot as plt\n",
        "import math"
      ]
    },
    {
      "cell_type": "code",
      "source": [
        "df = pd.read_csv('/content/_annotations.csv')\n",
        "df.head(10)"
      ],
      "metadata": {
        "colab": {
          "base_uri": "https://localhost:8080/",
          "height": 363
        },
        "id": "Y6eY1_DkAo-3",
        "outputId": "8ceeeb0e-fc18-494e-b5a1-6efb069d28c8"
      },
      "execution_count": null,
      "outputs": [
        {
          "output_type": "execute_result",
          "data": {
            "text/plain": [
              "                                            filename  width  height  class  \\\n",
              "0  a_846_jpg.rf.16ae5101af82219ebb320a9848f8ad80.jpg    720     404      6   \n",
              "1  a_144_jpg.rf.1e2dff958e04ae1f6ce93627c8ef281a.jpg    720     404     11   \n",
              "2  a_124_jpg.rf.157aebd9cf9c92cc819b6ec92a7183fd.jpg    720     404     10   \n",
              "3   no_9_jpg.rf.207063dcdefd0a9c4c30d682c6bb5d9b.jpg   2304    1440     10   \n",
              "4  surgery_5_jpg.rf.14697c20b72556a364ce21b3ab930...   2304    1440     13   \n",
              "5  a_933_jpg.rf.14b069909e8faef35f91cf0173c84bf0.jpg    720     404     11   \n",
              "6  a_311_jpg.rf.2544fe462a2807b99b05fedaf5c49e72.jpg    720     404      6   \n",
              "7  a_123_jpg.rf.2389dca6f0653e955bb7d04f5a585037.jpg    720     404     10   \n",
              "8  a_173_jpg.rf.23ff24582f38cad8e1126017b5688029.jpg    720     404     13   \n",
              "9  a_899_jpg.rf.23dff9b5995099519d4478f0c89342ee.jpg    720     404      9   \n",
              "\n",
              "   xmin  ymin  xmax  ymax  \n",
              "0   138    11   295   211  \n",
              "1   135   285   278   375  \n",
              "2   222   316   437   402  \n",
              "3   864   980  1424  1206  \n",
              "4  1129   750  1516   994  \n",
              "5   172   212   268   276  \n",
              "6   160    34   334   252  \n",
              "7   231   269   426   386  \n",
              "8   290   254   453   404  \n",
              "9   285   169   390   297  "
            ],
            "text/html": [
              "\n",
              "  <div id=\"df-9c180adf-d1b3-4f17-95c1-ac1f34fb71ab\" class=\"colab-df-container\">\n",
              "    <div>\n",
              "<style scoped>\n",
              "    .dataframe tbody tr th:only-of-type {\n",
              "        vertical-align: middle;\n",
              "    }\n",
              "\n",
              "    .dataframe tbody tr th {\n",
              "        vertical-align: top;\n",
              "    }\n",
              "\n",
              "    .dataframe thead th {\n",
              "        text-align: right;\n",
              "    }\n",
              "</style>\n",
              "<table border=\"1\" class=\"dataframe\">\n",
              "  <thead>\n",
              "    <tr style=\"text-align: right;\">\n",
              "      <th></th>\n",
              "      <th>filename</th>\n",
              "      <th>width</th>\n",
              "      <th>height</th>\n",
              "      <th>class</th>\n",
              "      <th>xmin</th>\n",
              "      <th>ymin</th>\n",
              "      <th>xmax</th>\n",
              "      <th>ymax</th>\n",
              "    </tr>\n",
              "  </thead>\n",
              "  <tbody>\n",
              "    <tr>\n",
              "      <th>0</th>\n",
              "      <td>a_846_jpg.rf.16ae5101af82219ebb320a9848f8ad80.jpg</td>\n",
              "      <td>720</td>\n",
              "      <td>404</td>\n",
              "      <td>6</td>\n",
              "      <td>138</td>\n",
              "      <td>11</td>\n",
              "      <td>295</td>\n",
              "      <td>211</td>\n",
              "    </tr>\n",
              "    <tr>\n",
              "      <th>1</th>\n",
              "      <td>a_144_jpg.rf.1e2dff958e04ae1f6ce93627c8ef281a.jpg</td>\n",
              "      <td>720</td>\n",
              "      <td>404</td>\n",
              "      <td>11</td>\n",
              "      <td>135</td>\n",
              "      <td>285</td>\n",
              "      <td>278</td>\n",
              "      <td>375</td>\n",
              "    </tr>\n",
              "    <tr>\n",
              "      <th>2</th>\n",
              "      <td>a_124_jpg.rf.157aebd9cf9c92cc819b6ec92a7183fd.jpg</td>\n",
              "      <td>720</td>\n",
              "      <td>404</td>\n",
              "      <td>10</td>\n",
              "      <td>222</td>\n",
              "      <td>316</td>\n",
              "      <td>437</td>\n",
              "      <td>402</td>\n",
              "    </tr>\n",
              "    <tr>\n",
              "      <th>3</th>\n",
              "      <td>no_9_jpg.rf.207063dcdefd0a9c4c30d682c6bb5d9b.jpg</td>\n",
              "      <td>2304</td>\n",
              "      <td>1440</td>\n",
              "      <td>10</td>\n",
              "      <td>864</td>\n",
              "      <td>980</td>\n",
              "      <td>1424</td>\n",
              "      <td>1206</td>\n",
              "    </tr>\n",
              "    <tr>\n",
              "      <th>4</th>\n",
              "      <td>surgery_5_jpg.rf.14697c20b72556a364ce21b3ab930...</td>\n",
              "      <td>2304</td>\n",
              "      <td>1440</td>\n",
              "      <td>13</td>\n",
              "      <td>1129</td>\n",
              "      <td>750</td>\n",
              "      <td>1516</td>\n",
              "      <td>994</td>\n",
              "    </tr>\n",
              "    <tr>\n",
              "      <th>5</th>\n",
              "      <td>a_933_jpg.rf.14b069909e8faef35f91cf0173c84bf0.jpg</td>\n",
              "      <td>720</td>\n",
              "      <td>404</td>\n",
              "      <td>11</td>\n",
              "      <td>172</td>\n",
              "      <td>212</td>\n",
              "      <td>268</td>\n",
              "      <td>276</td>\n",
              "    </tr>\n",
              "    <tr>\n",
              "      <th>6</th>\n",
              "      <td>a_311_jpg.rf.2544fe462a2807b99b05fedaf5c49e72.jpg</td>\n",
              "      <td>720</td>\n",
              "      <td>404</td>\n",
              "      <td>6</td>\n",
              "      <td>160</td>\n",
              "      <td>34</td>\n",
              "      <td>334</td>\n",
              "      <td>252</td>\n",
              "    </tr>\n",
              "    <tr>\n",
              "      <th>7</th>\n",
              "      <td>a_123_jpg.rf.2389dca6f0653e955bb7d04f5a585037.jpg</td>\n",
              "      <td>720</td>\n",
              "      <td>404</td>\n",
              "      <td>10</td>\n",
              "      <td>231</td>\n",
              "      <td>269</td>\n",
              "      <td>426</td>\n",
              "      <td>386</td>\n",
              "    </tr>\n",
              "    <tr>\n",
              "      <th>8</th>\n",
              "      <td>a_173_jpg.rf.23ff24582f38cad8e1126017b5688029.jpg</td>\n",
              "      <td>720</td>\n",
              "      <td>404</td>\n",
              "      <td>13</td>\n",
              "      <td>290</td>\n",
              "      <td>254</td>\n",
              "      <td>453</td>\n",
              "      <td>404</td>\n",
              "    </tr>\n",
              "    <tr>\n",
              "      <th>9</th>\n",
              "      <td>a_899_jpg.rf.23dff9b5995099519d4478f0c89342ee.jpg</td>\n",
              "      <td>720</td>\n",
              "      <td>404</td>\n",
              "      <td>9</td>\n",
              "      <td>285</td>\n",
              "      <td>169</td>\n",
              "      <td>390</td>\n",
              "      <td>297</td>\n",
              "    </tr>\n",
              "  </tbody>\n",
              "</table>\n",
              "</div>\n",
              "    <div class=\"colab-df-buttons\">\n",
              "\n",
              "  <div class=\"colab-df-container\">\n",
              "    <button class=\"colab-df-convert\" onclick=\"convertToInteractive('df-9c180adf-d1b3-4f17-95c1-ac1f34fb71ab')\"\n",
              "            title=\"Convert this dataframe to an interactive table.\"\n",
              "            style=\"display:none;\">\n",
              "\n",
              "  <svg xmlns=\"http://www.w3.org/2000/svg\" height=\"24px\" viewBox=\"0 -960 960 960\">\n",
              "    <path d=\"M120-120v-720h720v720H120Zm60-500h600v-160H180v160Zm220 220h160v-160H400v160Zm0 220h160v-160H400v160ZM180-400h160v-160H180v160Zm440 0h160v-160H620v160ZM180-180h160v-160H180v160Zm440 0h160v-160H620v160Z\"/>\n",
              "  </svg>\n",
              "    </button>\n",
              "\n",
              "  <style>\n",
              "    .colab-df-container {\n",
              "      display:flex;\n",
              "      gap: 12px;\n",
              "    }\n",
              "\n",
              "    .colab-df-convert {\n",
              "      background-color: #E8F0FE;\n",
              "      border: none;\n",
              "      border-radius: 50%;\n",
              "      cursor: pointer;\n",
              "      display: none;\n",
              "      fill: #1967D2;\n",
              "      height: 32px;\n",
              "      padding: 0 0 0 0;\n",
              "      width: 32px;\n",
              "    }\n",
              "\n",
              "    .colab-df-convert:hover {\n",
              "      background-color: #E2EBFA;\n",
              "      box-shadow: 0px 1px 2px rgba(60, 64, 67, 0.3), 0px 1px 3px 1px rgba(60, 64, 67, 0.15);\n",
              "      fill: #174EA6;\n",
              "    }\n",
              "\n",
              "    .colab-df-buttons div {\n",
              "      margin-bottom: 4px;\n",
              "    }\n",
              "\n",
              "    [theme=dark] .colab-df-convert {\n",
              "      background-color: #3B4455;\n",
              "      fill: #D2E3FC;\n",
              "    }\n",
              "\n",
              "    [theme=dark] .colab-df-convert:hover {\n",
              "      background-color: #434B5C;\n",
              "      box-shadow: 0px 1px 3px 1px rgba(0, 0, 0, 0.15);\n",
              "      filter: drop-shadow(0px 1px 2px rgba(0, 0, 0, 0.3));\n",
              "      fill: #FFFFFF;\n",
              "    }\n",
              "  </style>\n",
              "\n",
              "    <script>\n",
              "      const buttonEl =\n",
              "        document.querySelector('#df-9c180adf-d1b3-4f17-95c1-ac1f34fb71ab button.colab-df-convert');\n",
              "      buttonEl.style.display =\n",
              "        google.colab.kernel.accessAllowed ? 'block' : 'none';\n",
              "\n",
              "      async function convertToInteractive(key) {\n",
              "        const element = document.querySelector('#df-9c180adf-d1b3-4f17-95c1-ac1f34fb71ab');\n",
              "        const dataTable =\n",
              "          await google.colab.kernel.invokeFunction('convertToInteractive',\n",
              "                                                    [key], {});\n",
              "        if (!dataTable) return;\n",
              "\n",
              "        const docLinkHtml = 'Like what you see? Visit the ' +\n",
              "          '<a target=\"_blank\" href=https://colab.research.google.com/notebooks/data_table.ipynb>data table notebook</a>'\n",
              "          + ' to learn more about interactive tables.';\n",
              "        element.innerHTML = '';\n",
              "        dataTable['output_type'] = 'display_data';\n",
              "        await google.colab.output.renderOutput(dataTable, element);\n",
              "        const docLink = document.createElement('div');\n",
              "        docLink.innerHTML = docLinkHtml;\n",
              "        element.appendChild(docLink);\n",
              "      }\n",
              "    </script>\n",
              "  </div>\n",
              "\n",
              "\n",
              "<div id=\"df-7ce76bad-0363-4edf-8914-e215e91712ed\">\n",
              "  <button class=\"colab-df-quickchart\" onclick=\"quickchart('df-7ce76bad-0363-4edf-8914-e215e91712ed')\"\n",
              "            title=\"Suggest charts.\"\n",
              "            style=\"display:none;\">\n",
              "\n",
              "<svg xmlns=\"http://www.w3.org/2000/svg\" height=\"24px\"viewBox=\"0 0 24 24\"\n",
              "     width=\"24px\">\n",
              "    <g>\n",
              "        <path d=\"M19 3H5c-1.1 0-2 .9-2 2v14c0 1.1.9 2 2 2h14c1.1 0 2-.9 2-2V5c0-1.1-.9-2-2-2zM9 17H7v-7h2v7zm4 0h-2V7h2v10zm4 0h-2v-4h2v4z\"/>\n",
              "    </g>\n",
              "</svg>\n",
              "  </button>\n",
              "\n",
              "<style>\n",
              "  .colab-df-quickchart {\n",
              "      --bg-color: #E8F0FE;\n",
              "      --fill-color: #1967D2;\n",
              "      --hover-bg-color: #E2EBFA;\n",
              "      --hover-fill-color: #174EA6;\n",
              "      --disabled-fill-color: #AAA;\n",
              "      --disabled-bg-color: #DDD;\n",
              "  }\n",
              "\n",
              "  [theme=dark] .colab-df-quickchart {\n",
              "      --bg-color: #3B4455;\n",
              "      --fill-color: #D2E3FC;\n",
              "      --hover-bg-color: #434B5C;\n",
              "      --hover-fill-color: #FFFFFF;\n",
              "      --disabled-bg-color: #3B4455;\n",
              "      --disabled-fill-color: #666;\n",
              "  }\n",
              "\n",
              "  .colab-df-quickchart {\n",
              "    background-color: var(--bg-color);\n",
              "    border: none;\n",
              "    border-radius: 50%;\n",
              "    cursor: pointer;\n",
              "    display: none;\n",
              "    fill: var(--fill-color);\n",
              "    height: 32px;\n",
              "    padding: 0;\n",
              "    width: 32px;\n",
              "  }\n",
              "\n",
              "  .colab-df-quickchart:hover {\n",
              "    background-color: var(--hover-bg-color);\n",
              "    box-shadow: 0 1px 2px rgba(60, 64, 67, 0.3), 0 1px 3px 1px rgba(60, 64, 67, 0.15);\n",
              "    fill: var(--button-hover-fill-color);\n",
              "  }\n",
              "\n",
              "  .colab-df-quickchart-complete:disabled,\n",
              "  .colab-df-quickchart-complete:disabled:hover {\n",
              "    background-color: var(--disabled-bg-color);\n",
              "    fill: var(--disabled-fill-color);\n",
              "    box-shadow: none;\n",
              "  }\n",
              "\n",
              "  .colab-df-spinner {\n",
              "    border: 2px solid var(--fill-color);\n",
              "    border-color: transparent;\n",
              "    border-bottom-color: var(--fill-color);\n",
              "    animation:\n",
              "      spin 1s steps(1) infinite;\n",
              "  }\n",
              "\n",
              "  @keyframes spin {\n",
              "    0% {\n",
              "      border-color: transparent;\n",
              "      border-bottom-color: var(--fill-color);\n",
              "      border-left-color: var(--fill-color);\n",
              "    }\n",
              "    20% {\n",
              "      border-color: transparent;\n",
              "      border-left-color: var(--fill-color);\n",
              "      border-top-color: var(--fill-color);\n",
              "    }\n",
              "    30% {\n",
              "      border-color: transparent;\n",
              "      border-left-color: var(--fill-color);\n",
              "      border-top-color: var(--fill-color);\n",
              "      border-right-color: var(--fill-color);\n",
              "    }\n",
              "    40% {\n",
              "      border-color: transparent;\n",
              "      border-right-color: var(--fill-color);\n",
              "      border-top-color: var(--fill-color);\n",
              "    }\n",
              "    60% {\n",
              "      border-color: transparent;\n",
              "      border-right-color: var(--fill-color);\n",
              "    }\n",
              "    80% {\n",
              "      border-color: transparent;\n",
              "      border-right-color: var(--fill-color);\n",
              "      border-bottom-color: var(--fill-color);\n",
              "    }\n",
              "    90% {\n",
              "      border-color: transparent;\n",
              "      border-bottom-color: var(--fill-color);\n",
              "    }\n",
              "  }\n",
              "</style>\n",
              "\n",
              "  <script>\n",
              "    async function quickchart(key) {\n",
              "      const quickchartButtonEl =\n",
              "        document.querySelector('#' + key + ' button');\n",
              "      quickchartButtonEl.disabled = true;  // To prevent multiple clicks.\n",
              "      quickchartButtonEl.classList.add('colab-df-spinner');\n",
              "      try {\n",
              "        const charts = await google.colab.kernel.invokeFunction(\n",
              "            'suggestCharts', [key], {});\n",
              "      } catch (error) {\n",
              "        console.error('Error during call to suggestCharts:', error);\n",
              "      }\n",
              "      quickchartButtonEl.classList.remove('colab-df-spinner');\n",
              "      quickchartButtonEl.classList.add('colab-df-quickchart-complete');\n",
              "    }\n",
              "    (() => {\n",
              "      let quickchartButtonEl =\n",
              "        document.querySelector('#df-7ce76bad-0363-4edf-8914-e215e91712ed button');\n",
              "      quickchartButtonEl.style.display =\n",
              "        google.colab.kernel.accessAllowed ? 'block' : 'none';\n",
              "    })();\n",
              "  </script>\n",
              "</div>\n",
              "    </div>\n",
              "  </div>\n"
            ]
          },
          "metadata": {},
          "execution_count": 2
        }
      ]
    },
    {
      "cell_type": "code",
      "source": [
        "mean_of_width = df['width'].mean()\n",
        "mean_of_height = df['height'].mean()\n",
        "mean_of_class = df['class'].mean()\n",
        "mean_of_xmin = df['xmin'].mean()\n",
        "mean_of_ymin = df['ymin'].mean()\n",
        "mean_of_xmax = df['xmax'].mean()\n",
        "mean_of_ymax = df['ymax'].mean()\n",
        "\n",
        "print(f\"Mean of width: {mean_of_width}, height :{mean_of_height}, class :{mean_of_class}, xmin :{mean_of_xmin}, ymin :{mean_of_ymin}, xmax :{mean_of_xmax}, ymax :{mean_of_ymax}\")"
      ],
      "metadata": {
        "colab": {
          "base_uri": "https://localhost:8080/"
        },
        "id": "1o3jA1B0A5gg",
        "outputId": "311e980c-11e2-4901-f0a2-9d27b1437489"
      },
      "execution_count": null,
      "outputs": [
        {
          "output_type": "stream",
          "name": "stdout",
          "text": [
            "Mean of width: 1191.6404494382023, height :712.4719101123595, class :7.544943820224719, xmin :444.2022471910112, ymin :311.89325842696627, xmax :646.6910112359551, ymax :516.4662921348314\n"
          ]
        }
      ]
    },
    {
      "cell_type": "code",
      "source": [
        "width_SD = np.std(df['width'])\n",
        "height_SD = np.std(df['height'])\n",
        "class_SD = np.std(df['class'])\n",
        "xmin_SD =np.std(df['xmin'])\n",
        "ymin_SD =np.std(df['ymin'])\n",
        "xmax_SD =np.std(df['xmax'])\n",
        "ymax_SD =np.std(df['ymax'])\n",
        "\n",
        "print(f\"Standard Deviation of width: {width_SD}, height :{height_SD}, class :{class_SD}, xmin :{xmin_SD}, ymin :{ymin_SD}, xmax :{xmax_SD}, ymax :{ymax_SD}\")"
      ],
      "metadata": {
        "colab": {
          "base_uri": "https://localhost:8080/"
        },
        "id": "iY9hv1qiCcpE",
        "outputId": "61391c19-4551-40eb-c712-9785cc1958e1"
      },
      "execution_count": null,
      "outputs": [
        {
          "output_type": "stream",
          "name": "stdout",
          "text": [
            "Standard Deviation of width: 724.3160624781443, height :473.73197015616, class :4.0972314915952985, xmin :329.2429921199822, ymin :247.5994065710305, xmax :413.87057634500417, ymax :329.8411117131086\n"
          ]
        }
      ]
    },
    {
      "cell_type": "code",
      "source": [
        "class_m = df.groupby('class')[['xmin', 'ymin', 'xmax', 'ymax']].mean()\n",
        "\n",
        "print(class_m)\n",
        "\n",
        "class_1 = 10\n",
        "class_2 = 11\n",
        "\n",
        "centroid_1 = class_m.loc[class_1].values\n",
        "centroid_2 = class_m.loc[class_2].values\n",
        "dist = np.linalg.norm(centroid_1 - centroid_2)\n",
        "\n",
        "print(f\"Distance between class {class_1} and class {class_2} centroids: {dist}\")"
      ],
      "metadata": {
        "colab": {
          "base_uri": "https://localhost:8080/"
        },
        "id": "EGs0i9qXEYB_",
        "outputId": "b7cfee3f-770f-4525-cbb1-834f846efafa"
      },
      "execution_count": null,
      "outputs": [
        {
          "output_type": "stream",
          "name": "stdout",
          "text": [
            "             xmin        ymin        xmax        ymax\n",
            "class                                                \n",
            "0      461.500000  262.750000  633.500000  399.500000\n",
            "1      508.615385  373.692308  720.384615  587.538462\n",
            "2      473.363636  594.000000  946.727273  753.636364\n",
            "3      498.800000  373.600000  625.800000  569.000000\n",
            "4      381.900000  123.100000  528.400000  259.800000\n",
            "5      524.500000  211.666667  634.500000  522.583333\n",
            "6      293.882353   76.294118  493.000000  389.000000\n",
            "7      359.857143  257.857143  510.142857  460.571429\n",
            "8      558.571429  301.857143  797.928571  530.428571\n",
            "9      468.000000  353.562500  638.875000  539.125000\n",
            "10     363.875000  448.125000  688.625000  581.625000\n",
            "11     350.857143  434.928571  481.000000  562.428571\n",
            "12     773.000000  405.222222  981.777778  867.111111\n",
            "13     384.818182  280.636364  582.363636  412.909091\n",
            "Distance between class 10 and class 11 centroids: 209.33287803527332\n"
          ]
        }
      ]
    },
    {
      "cell_type": "code",
      "source": [
        "width_val = df['width']\n",
        "width_val\n",
        "\n",
        "hist, bins = np.histogram(width_val, bins=10)\n",
        "\n",
        "mean_width = np.mean(width_val)\n",
        "variance_width = np.var(width_val)\n",
        "\n",
        "plt.text(0.7, 0.8, f'Mean: {mean_width:.2f}', transform=plt.gca().transAxes)\n",
        "plt.text(0.7, 0.95, f'Variance: {variance_width:.2f}', transform=plt.gca().transAxes)\n",
        "\n",
        "plt.hist(width_val, bins=10, edgecolor='black', alpha=0.9)\n",
        "plt.xlabel('Width')\n",
        "plt.ylabel('Frequency')\n",
        "plt.title('Histogram of the Width')\n",
        "plt.grid(True)\n",
        "\n",
        "plt.show()"
      ],
      "metadata": {
        "colab": {
          "base_uri": "https://localhost:8080/",
          "height": 472
        },
        "id": "36aXg_HYFRPc",
        "outputId": "2a84d79c-2b6b-4b1c-a819-39216349da50"
      },
      "execution_count": null,
      "outputs": [
        {
          "output_type": "display_data",
          "data": {
            "text/plain": [
              "<Figure size 640x480 with 1 Axes>"
            ],
            "image/png": "[encoded data removed]"
          },
          "metadata": {}
        }
      ]
    },
    {
      "cell_type": "code",
      "source": [
        "vect1 = df['xmax']\n",
        "vect2 = df['ymax']\n",
        "\n",
        "distances = []\n",
        "r_val = np.arange(1, 11)\n",
        "for r in r_val:\n",
        "    distance = np.power(np.abs(vect1 - vect2), r).sum() ** (1 / r)\n",
        "    distances.append(distance)\n",
        "\n",
        "plt.plot(r_val, distances, marker='o', linestyle='-')\n",
        "plt.xlabel('r')\n",
        "plt.ylabel('Minkowski Distance')\n",
        "plt.title('The Minkowski Distance vs. r')\n",
        "plt.grid(True)\n",
        "plt.show()"
      ],
      "metadata": {
        "colab": {
          "base_uri": "https://localhost:8080/",
          "height": 507
        },
        "id": "8hygUpkFGiJ8",
        "outputId": "61ddc025-028e-4f99-a558-c2d162c4d98b"
      },
      "execution_count": null,
      "outputs": [
        {
          "output_type": "stream",
          "name": "stderr",
          "text": [
            "<ipython-input-32-272bc81a1200>:7: RuntimeWarning: invalid value encountered in double_scalars\n",
            "  distance = np.power(np.abs(vect1 - vect2), r).sum() ** (1 / r)\n"
          ]
        },
        {
          "output_type": "display_data",
          "data": {
            "text/plain": [
              "<Figure size 640x480 with 1 Axes>"
            ],
            "image/png": "[encoded data removed]"
          },
          "metadata": {}
        }
      ]
    },
    {
      "cell_type": "code",
      "source": [
        "from sklearn.model_selection import train_test_split\n",
        "\n",
        "list = ['width','height','xmin','ymin','xmax','ymax']\n",
        "a = df[list]\n",
        "b = df[\"class\"]\n",
        "\n",
        "a_train , a_test ,b_train  , b_test   = train_test_split(a,b,test_size=0.3)\n",
        "\n",
        "\n",
        "print(f\"a_train :{a_train}\")\n",
        "print(f\"a_test :{a_test}\")\n",
        "print(f\"b_train :{b_train}\")\n",
        "print(f\"b_test :{b_test}\")"
      ],
      "metadata": {
        "colab": {
          "base_uri": "https://localhost:8080/"
        },
        "id": "fE3bJ2CNHLgu",
        "outputId": "a8d010bd-fa52-4103-bb9b-74932c21cc98"
      },
      "execution_count": null,
      "outputs": [
        {
          "output_type": "stream",
          "name": "stdout",
          "text": [
            "a_train :     width  height  xmin  ymin  xmax  ymax\n",
            "151    720     404   216   165   286   310\n",
            "137    720     404   262   126   385   290\n",
            "39    2304    1440   851   962  1512  1220\n",
            "78     720     404   239   277   390   385\n",
            "74     720     404   141    29   302   264\n",
            "..     ...     ...   ...   ...   ...   ...\n",
            "86    2304    1440   769   308  1068   572\n",
            "0      720     404   138    11   295   211\n",
            "150    720     404   319   188   411   272\n",
            "102    720     404   205   112   367   336\n",
            "12     720     404   165   268   269   360\n",
            "\n",
            "[124 rows x 6 columns]\n",
            "a_test :     width  height  xmin  ymin  xmax  ymax\n",
            "124    720     404   163    74   279   299\n",
            "98    2304    1440   835   974  1440  1214\n",
            "95     720     404   266   159   375   296\n",
            "22    2304    1440   949   698  1257  1006\n",
            "130   2304    1440   986   368  1134   830\n",
            "58     720     404   286   182   363   308\n",
            "106   2304    1440   952   700  1249   998\n",
            "112   2304    1440  1008   804  1301  1104\n",
            "57     720     404   253   133   390   283\n",
            "127    720     404   272   173   367   313\n",
            "108    720     404   246   159   423   258\n",
            "70    2304    1440   790   334  1060   572\n",
            "5      720     404   172   212   268   276\n",
            "85     720     404   201    53   298   137\n",
            "149    720     404   278   193   448   327\n",
            "34     720     404   300   203   458   319\n",
            "11    2304    1440   990   384  1130   828\n",
            "32     720     404   282   172   362   299\n",
            "126   2304    1440   911   530  1260   928\n",
            "9      720     404   285   169   390   297\n",
            "37     720     404   244   232   383   396\n",
            "172    720     404   195   272   293   368\n",
            "60    2304    1440   972   592  1364   910\n",
            "94    2304    1440  1084   488  1431   908\n",
            "158    720     404   277   222   431   330\n",
            "135    720     404   237   260   391   387\n",
            "105   2304    1440  1023   816  1214  1124\n",
            "141    720     404   283   183   368   308\n",
            "33    2304    1440  1093   748  1534  1008\n",
            "61    2304    1440   943   448  1141   980\n",
            "136    720     404   190   283   291   370\n",
            "169    720     404   267   149   398   301\n",
            "148    720     404   209    65   289   279\n",
            "145    720     404   198    62   298   155\n",
            "73     720     404   209    53   296   138\n",
            "82     720     404   164   277   469   364\n",
            "81    2304    1440   958   668  1262   980\n",
            "115    720     404   254   155   422   260\n",
            "154    720     404   133     7   307   213\n",
            "159    720     404   274   220   462   331\n",
            "107    720     404   166   282   489   395\n",
            "51     720     404   291   238   469   327\n",
            "35    2304    1440   706   270   983   986\n",
            "69     720     404   285   208   461   336\n",
            "171    720     404   226    15   315   105\n",
            "24     720     404   286   247   406   395\n",
            "1      720     404   135   285   278   375\n",
            "165    720     404   173    57   270   147\n",
            "103    720     404   204   151   293   319\n",
            "6      720     404   160    34   334   252\n",
            "175   2304    1440  1017   188  1381   702\n",
            "28     720     404   121     4   279   208\n",
            "118    720     404   276   236   471   336\n",
            "23    2304    1440   706   272   983   944\n",
            "b_train :151     5\n",
            "137     7\n",
            "39      2\n",
            "78      1\n",
            "74      6\n",
            "       ..\n",
            "86      4\n",
            "0       6\n",
            "150     0\n",
            "102    12\n",
            "12     11\n",
            "Name: class, Length: 124, dtype: int64\n",
            "b_test :124     5\n",
            "98     10\n",
            "95      7\n",
            "22      1\n",
            "130     5\n",
            "58      3\n",
            "106     1\n",
            "112     9\n",
            "57      1\n",
            "127     3\n",
            "108     8\n",
            "70      4\n",
            "5      11\n",
            "85      4\n",
            "149    13\n",
            "34     13\n",
            "11      5\n",
            "32      3\n",
            "126     1\n",
            "9       9\n",
            "37      7\n",
            "172    11\n",
            "60      0\n",
            "94      8\n",
            "158    13\n",
            "135     1\n",
            "105     3\n",
            "141     3\n",
            "33     13\n",
            "61     12\n",
            "136    11\n",
            "169     9\n",
            "148     5\n",
            "145     4\n",
            "73      4\n",
            "82     10\n",
            "81      1\n",
            "115     8\n",
            "154     6\n",
            "159    13\n",
            "107     2\n",
            "51     13\n",
            "35      6\n",
            "69     13\n",
            "171     4\n",
            "24      9\n",
            "1      11\n",
            "165     4\n",
            "103     5\n",
            "6       6\n",
            "175     6\n",
            "28      6\n",
            "118    13\n",
            "23      6\n",
            "Name: class, dtype: int64\n"
          ]
        }
      ]
    },
    {
      "cell_type": "code",
      "source": [
        "from  sklearn.neighbors import KNeighborsClassifier\n",
        "neighbor = KNeighborsClassifier(n_neighbors=3)\n",
        "\n",
        "neighbor.fit(a,b)"
      ],
      "metadata": {
        "colab": {
          "base_uri": "https://localhost:8080/",
          "height": 74
        },
        "id": "ckaPCs95IEou",
        "outputId": "94391a47-2d16-4f83-e0bf-9541c86d7c69"
      },
      "execution_count": null,
      "outputs": [
        {
          "output_type": "execute_result",
          "data": {
            "text/plain": [
              "KNeighborsClassifier(n_neighbors=3)"
            ],
            "text/html": [
              "<style>#sk-container-id-3 {color: black;background-color: white;}#sk-container-id-3 pre{padding: 0;}#sk-container-id-3 div.sk-toggleable {background-color: white;}#sk-container-id-3 label.sk-toggleable__label {cursor: pointer;display: block;width: 100%;margin-bottom: 0;padding: 0.3em;box-sizing: border-box;text-align: center;}#sk-container-id-3 label.sk-toggleable__label-arrow:before {content: \"▸\";float: left;margin-right: 0.25em;color: #696969;}#sk-container-id-3 label.sk-toggleable__label-arrow:hover:before {color: black;}#sk-container-id-3 div.sk-estimator:hover label.sk-toggleable__label-arrow:before {color: black;}#sk-container-id-3 div.sk-toggleable__content {max-height: 0;max-width: 0;overflow: hidden;text-align: left;background-color: #f0f8ff;}#sk-container-id-3 div.sk-toggleable__content pre {margin: 0.2em;color: black;border-radius: 0.25em;background-color: #f0f8ff;}#sk-container-id-3 input.sk-toggleable__control:checked~div.sk-toggleable__content {max-height: 200px;max-width: 100%;overflow: auto;}#sk-container-id-3 input.sk-toggleable__control:checked~label.sk-toggleable__label-arrow:before {content: \"▾\";}#sk-container-id-3 div.sk-estimator input.sk-toggleable__control:checked~label.sk-toggleable__label {background-color: #d4ebff;}#sk-container-id-3 div.sk-label input.sk-toggleable__control:checked~label.sk-toggleable__label {background-color: #d4ebff;}#sk-container-id-3 input.sk-hidden--visually {border: 0;clip: rect(1px 1px 1px 1px);clip: rect(1px, 1px, 1px, 1px);height: 1px;margin: -1px;overflow: hidden;padding: 0;position: absolute;width: 1px;}#sk-container-id-3 div.sk-estimator {font-family: monospace;background-color: #f0f8ff;border: 1px dotted black;border-radius: 0.25em;box-sizing: border-box;margin-bottom: 0.5em;}#sk-container-id-3 div.sk-estimator:hover {background-color: #d4ebff;}#sk-container-id-3 div.sk-parallel-item::after {content: \"\";width: 100%;border-bottom: 1px solid gray;flex-grow: 1;}#sk-container-id-3 div.sk-label:hover label.sk-toggleable__label {background-color: #d4ebff;}#sk-container-id-3 div.sk-serial::before {content: \"\";position: absolute;border-left: 1px solid gray;box-sizing: border-box;top: 0;bottom: 0;left: 50%;z-index: 0;}#sk-container-id-3 div.sk-serial {display: flex;flex-direction: column;align-items: center;background-color: white;padding-right: 0.2em;padding-left: 0.2em;position: relative;}#sk-container-id-3 div.sk-item {position: relative;z-index: 1;}#sk-container-id-3 div.sk-parallel {display: flex;align-items: stretch;justify-content: center;background-color: white;position: relative;}#sk-container-id-3 div.sk-item::before, #sk-container-id-3 div.sk-parallel-item::before {content: \"\";position: absolute;border-left: 1px solid gray;box-sizing: border-box;top: 0;bottom: 0;left: 50%;z-index: -1;}#sk-container-id-3 div.sk-parallel-item {display: flex;flex-direction: column;z-index: 1;position: relative;background-color: white;}#sk-container-id-3 div.sk-parallel-item:first-child::after {align-self: flex-end;width: 50%;}#sk-container-id-3 div.sk-parallel-item:last-child::after {align-self: flex-start;width: 50%;}#sk-container-id-3 div.sk-parallel-item:only-child::after {width: 0;}#sk-container-id-3 div.sk-dashed-wrapped {border: 1px dashed gray;margin: 0 0.4em 0.5em 0.4em;box-sizing: border-box;padding-bottom: 0.4em;background-color: white;}#sk-container-id-3 div.sk-label label {font-family: monospace;font-weight: bold;display: inline-block;line-height: 1.2em;}#sk-container-id-3 div.sk-label-container {text-align: center;}#sk-container-id-3 div.sk-container {/* jupyter's `normalize.less` sets `[hidden] { display: none; }` but bootstrap.min.css set `[hidden] { display: none !important; }` so we also need the `!important` here to be able to override the default hidden behavior on the sphinx rendered scikit-learn.org. See: https://github.com/scikit-learn/scikit-learn/issues/21755 */display: inline-block !important;position: relative;}#sk-container-id-3 div.sk-text-repr-fallback {display: none;}</style><div id=\"sk-container-id-3\" class=\"sk-top-container\"><div class=\"sk-text-repr-fallback\"><pre>KNeighborsClassifier(n_neighbors=3)</pre><b>In a Jupyter environment, please rerun this cell to show the HTML representation or trust the notebook. <br />On GitHub, the HTML representation is unable to render, please try loading this page with nbviewer.org.</b></div><div class=\"sk-container\" hidden><div class=\"sk-item\"><div class=\"sk-estimator sk-toggleable\"><input class=\"sk-toggleable__control sk-hidden--visually\" id=\"sk-estimator-id-3\" type=\"checkbox\" checked><label for=\"sk-estimator-id-3\" class=\"sk-toggleable__label sk-toggleable__label-arrow\">KNeighborsClassifier</label><div class=\"sk-toggleable__content\"><pre>KNeighborsClassifier(n_neighbors=3)</pre></div></div></div></div></div>"
            ]
          },
          "metadata": {},
          "execution_count": 42
        }
      ]
    },
    {
      "cell_type": "code",
      "source": [
        "neighbor_score_k3 = neighbor.score(a_test, b_test)\n",
        "print(neighbor_score_k3)"
      ],
      "metadata": {
        "colab": {
          "base_uri": "https://localhost:8080/"
        },
        "id": "vRNxA00BISzY",
        "outputId": "d09e0e57-8cac-48dd-cc40-6c11b03a830f"
      },
      "execution_count": null,
      "outputs": [
        {
          "output_type": "stream",
          "name": "stdout",
          "text": [
            "0.9074074074074074\n"
          ]
        }
      ]
    },
    {
      "cell_type": "code",
      "source": [
        "print(neighbor.predict(a_test))"
      ],
      "metadata": {
        "colab": {
          "base_uri": "https://localhost:8080/"
        },
        "id": "fXyySCtNIgQM",
        "outputId": "7c87c08d-c11e-4ba8-bb2d-0514d920d90e"
      },
      "execution_count": null,
      "outputs": [
        {
          "output_type": "stream",
          "name": "stdout",
          "text": [
            "[ 5 10  3  1  5  3  1  9  1  3  8  4 11  4 13 13  5  3  1  9  7 11  1  8\n",
            " 13  1  3  3 13 12 11  9  5  4  4  2  1  8  6  8  2 13  6 13  4  9 11  4\n",
            "  5  6  5  6 13  6]\n"
          ]
        }
      ]
    },
    {
      "cell_type": "code",
      "source": [
        "neighbor = KNeighborsClassifier(n_neighbors=1)\n",
        "neighbor.fit(a, b)\n",
        "neighbor_score_k1=neighbor.score(a_test, b_test)\n",
        "print(neighbor.predict(a_test))\n",
        "print(f'Accuracy prediction of : k=1: {neighbor_score_k1} and for k=3: {neighbor_score_k3}')\n",
        "\n",
        "x_axis= np.arange(1,12)\n",
        "y_axis=[]\n",
        "\n",
        "for i in range(1,12):\n",
        "    neighbor = KNeighborsClassifier(n_neighbors=i)\n",
        "    neighbor.fit(a, b)\n",
        "    y_axis.append(neighbor.score(a_test, b_test))\n",
        "\n",
        "plt.bar(x_axis,y_axis,color='black')\n",
        "plt.xlabel('K values')\n",
        "plt.ylabel('Accuracy Score')\n",
        "plt.title('K values vs the Accuracy Score')\n",
        "plt.show()"
      ],
      "metadata": {
        "colab": {
          "base_uri": "https://localhost:8080/",
          "height": 541
        },
        "id": "oH0wfSF9I_XN",
        "outputId": "f5ab2cbd-045b-4b82-b83d-1cbac1c30c4c"
      },
      "execution_count": null,
      "outputs": [
        {
          "output_type": "stream",
          "name": "stdout",
          "text": [
            "[ 5 10  7  1  5  3  1  9  1  3  8  4 11  4 13 13  5  3  1  9  7 11  0  8\n",
            " 13  1  3  3 13 12 11  9  5  4  4 10  1  8  6 13  2 13  6 13  4  9 11  4\n",
            "  5  6  6  6 13  6]\n",
            "Accuracy prediction of : k=1: 1.0 and for k=3: 0.9074074074074074\n"
          ]
        },
        {
          "output_type": "display_data",
          "data": {
            "text/plain": [
              "<Figure size 640x480 with 1 Axes>"
            ],
            "image/png": "[encoded data removed]"
          },
          "metadata": {}
        }
      ]
    },
    {
      "cell_type": "code",
      "source": [
        "# A9.\n",
        "# Since we are dealing with images, we can't evaluate the confusion matrix because we required labels and other elements in the csv formate which is not available in our dataset."
      ],
      "metadata": {
        "id": "HwOqKQ4MKKtv"
      },
      "execution_count": null,
      "outputs": []
    }
  ]
}